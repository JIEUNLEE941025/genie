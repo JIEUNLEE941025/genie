{
 "cells": [
  {
   "cell_type": "markdown",
   "metadata": {},
   "source": [
    "## 비정형 데이터 분석\n",
    "\n",
    "- 정형(structured) 데이터: 표 형태의 데이터\n",
    "- 비정형(unstructured) 데이터: 텍스트, 이미지, 음성 등"
   ]
  },
  {
   "cell_type": "markdown",
   "metadata": {},
   "source": [
    "# 웹 스크래핑 1"
   ]
  },
  {
   "cell_type": "markdown",
   "metadata": {},
   "source": [
    "### Python으로 URL 분석하기"
   ]
  },
  {
   "cell_type": "code",
   "execution_count": 3,
   "metadata": {},
   "outputs": [],
   "source": [
    "import urllib.parse"
   ]
  },
  {
   "cell_type": "code",
   "execution_count": 4,
   "metadata": {},
   "outputs": [],
   "source": [
    "p = urllib.parse.urlparse('http://www.bobaedream.co.kr/mycar/mycar_list.php?sel_m_gubun=ALL&page=2')"
   ]
  },
  {
   "cell_type": "code",
   "execution_count": 5,
   "metadata": {},
   "outputs": [
    {
     "data": {
      "text/plain": [
       "'http'"
      ]
     },
     "execution_count": 5,
     "metadata": {},
     "output_type": "execute_result"
    }
   ],
   "source": [
    "p.scheme"
   ]
  },
  {
   "cell_type": "code",
   "execution_count": 6,
   "metadata": {},
   "outputs": [
    {
     "data": {
      "text/plain": [
       "'www.bobaedream.co.kr'"
      ]
     },
     "execution_count": 6,
     "metadata": {},
     "output_type": "execute_result"
    }
   ],
   "source": [
    "p.hostname"
   ]
  },
  {
   "cell_type": "code",
   "execution_count": 7,
   "metadata": {},
   "outputs": [
    {
     "data": {
      "text/plain": [
       "'/mycar/mycar_list.php'"
      ]
     },
     "execution_count": 7,
     "metadata": {},
     "output_type": "execute_result"
    }
   ],
   "source": [
    "p.path #경로"
   ]
  },
  {
   "cell_type": "code",
   "execution_count": 8,
   "metadata": {},
   "outputs": [
    {
     "data": {
      "text/plain": [
       "'sel_m_gubun=ALL&page=2'"
      ]
     },
     "execution_count": 8,
     "metadata": {},
     "output_type": "execute_result"
    }
   ],
   "source": [
    "p.query #매개변수"
   ]
  },
  {
   "cell_type": "markdown",
   "metadata": {},
   "source": [
    "### 요청보내기"
   ]
  },
  {
   "cell_type": "code",
   "execution_count": 9,
   "metadata": {},
   "outputs": [],
   "source": [
    "import requests"
   ]
  },
  {
   "cell_type": "code",
   "execution_count": 10,
   "metadata": {},
   "outputs": [],
   "source": [
    "# GET 요청을 보내고 응답을 받아와 res 변수에 할당한다.\n",
    "url = 'http://www.bobaedream.co.kr/mycar/mycar_list.php?sel_m_gubun=ALL&page=2'\n",
    "res = requests.get(url)"
   ]
  },
  {
   "cell_type": "code",
   "execution_count": 11,
   "metadata": {},
   "outputs": [
    {
     "data": {
      "text/plain": [
       "<Response [200]>"
      ]
     },
     "execution_count": 11,
     "metadata": {},
     "output_type": "execute_result"
    }
   ],
   "source": [
    "res"
   ]
  },
  {
   "cell_type": "code",
   "execution_count": 12,
   "metadata": {},
   "outputs": [
    {
     "data": {
      "text/plain": [
       "200"
      ]
     },
     "execution_count": 12,
     "metadata": {},
     "output_type": "execute_result"
    }
   ],
   "source": [
    "res.status_code\n",
    "# 응답의 상태 코드를 확인하면 200번을 얻는다."
   ]
  },
  {
   "cell_type": "code",
   "execution_count": 13,
   "metadata": {},
   "outputs": [
    {
     "data": {
      "text/plain": [
       "<Response [404]>"
      ]
     },
     "execution_count": 13,
     "metadata": {},
     "output_type": "execute_result"
    }
   ],
   "source": [
    "requests.get('http://www.bobaedream.co.kr/aaaaaaa')"
   ]
  },
  {
   "cell_type": "markdown",
   "metadata": {},
   "source": [
    "## 상태코드\n",
    "\n",
    "- 2XX: 성공\n",
    "- 3XX: 다른 주소로 이동\n",
    "- 4XX: 클라이언트 오류\n",
    "  - 404: 존재하지 않는 주소\n",
    "- 5XX: 서버 오류\n",
    "  - 503: 서버가 다운 등의 문제로 서비스 불가 상태"
   ]
  },
  {
   "cell_type": "markdown",
   "metadata": {},
   "source": [
    "## HTML\n",
    "\n",
    "- 웹 페이지의 내용을 표현하는 방법\n",
    "- 노드라는 단위로 구성\n",
    "- 하나의 노드는 여는 태그, 태그의 내용, 닫는 태그로 구성\n",
    "- 예: `<a href=\"http://www.google.com\">구글</a>`\n",
    "  - 여는 태그: `<a href=\"http://www.google.com\">`\n",
    "  - 내용: `구글`\n",
    "  - 닫는 태그: `</a>`"
   ]
  },
  {
   "cell_type": "markdown",
   "metadata": {},
   "source": [
    "## 개발자 도구\n",
    "\n",
    "- 웹 브라우저에서 F12 또는 우클릭 후 \"검사\" 메뉴를 클릭하면 개발자도구로 진입\n",
    "- HTML의 구조와 통신 내역 등을 확인"
   ]
  },
  {
   "cell_type": "markdown",
   "metadata": {},
   "source": [
    "## HTML의 주요 태그\n",
    "\n",
    "- div: 구역(division)\n",
    "- span: 범위(span)\n",
    "- ul: 번호 없는 리스트(unordered list)\n",
    "- ol: 번호 리스트(ordered list)\n",
    "- li: 리스트 항목(list item)\n",
    "- a: 링크(anchor)"
   ]
  },
  {
   "cell_type": "markdown",
   "metadata": {},
   "source": [
    "## 응답 내용에서 특정 태그 찾기\n",
    "\n",
    "먼저 cssselect 패키지를 설치한다."
   ]
  },
  {
   "cell_type": "code",
   "execution_count": 15,
   "metadata": {},
   "outputs": [
    {
     "name": "stdout",
     "output_type": "stream",
     "text": [
      "Collecting cssselect\n",
      "  Downloading cssselect-1.1.0-py2.py3-none-any.whl (16 kB)\n",
      "Installing collected packages: cssselect\n",
      "Successfully installed cssselect-1.1.0\n"
     ]
    }
   ],
   "source": [
    "!pip install cssselect"
   ]
  },
  {
   "cell_type": "markdown",
   "metadata": {},
   "source": [
    "HTML 해석을 위한 lxml.html을 불러온다."
   ]
  },
  {
   "cell_type": "code",
   "execution_count": 16,
   "metadata": {},
   "outputs": [],
   "source": [
    "import lxml.html"
   ]
  },
  {
   "cell_type": "markdown",
   "metadata": {},
   "source": [
    "응답의 텍스트(res.text)를 해석한다."
   ]
  },
  {
   "cell_type": "code",
   "execution_count": 19,
   "metadata": {},
   "outputs": [
    {
     "data": {
      "text/plain": [
       "<Element html at 0x25a0ce37958>"
      ]
     },
     "execution_count": 19,
     "metadata": {},
     "output_type": "execute_result"
    }
   ],
   "source": [
    "root = lxml.html.fromstring(res.text)\n",
    "root"
   ]
  },
  {
   "cell_type": "markdown",
   "metadata": {},
   "source": [
    "a 태그를 모두 찾는다."
   ]
  },
  {
   "cell_type": "code",
   "execution_count": 18,
   "metadata": {},
   "outputs": [
    {
     "data": {
      "text/plain": [
       "[<Element a at 0x25a0cdfd6d8>,\n",
       " <Element a at 0x25a0cdfd868>,\n",
       " <Element a at 0x25a0cdfdcc8>,\n",
       " <Element a at 0x25a0cdfdae8>,\n",
       " <Element a at 0x25a0ce2b6d8>,\n",
       " <Element a at 0x25a0ce2b728>,\n",
       " <Element a at 0x25a0ce2b778>,\n",
       " <Element a at 0x25a0ce2b7c8>,\n",
       " <Element a at 0x25a0ce2b818>,\n",
       " <Element a at 0x25a0ce2b868>,\n",
       " <Element a at 0x25a0ce2b8b8>,\n",
       " <Element a at 0x25a0ce2b908>,\n",
       " <Element a at 0x25a0ce2b958>,\n",
       " <Element a at 0x25a0ce2b9a8>,\n",
       " <Element a at 0x25a0ce2b9f8>,\n",
       " <Element a at 0x25a0ce2ba48>,\n",
       " <Element a at 0x25a0ce2ba98>,\n",
       " <Element a at 0x25a0ce2bae8>,\n",
       " <Element a at 0x25a0ce2bb38>,\n",
       " <Element a at 0x25a0ce2bb88>,\n",
       " <Element a at 0x25a0ce2bbd8>,\n",
       " <Element a at 0x25a0ce2bc28>,\n",
       " <Element a at 0x25a0ce2bc78>,\n",
       " <Element a at 0x25a0ce2bcc8>,\n",
       " <Element a at 0x25a0ce2bd18>,\n",
       " <Element a at 0x25a0ce2bd68>,\n",
       " <Element a at 0x25a0ce2bdb8>,\n",
       " <Element a at 0x25a0ce2be08>,\n",
       " <Element a at 0x25a0ce2be58>,\n",
       " <Element a at 0x25a0ce2bea8>,\n",
       " <Element a at 0x25a0ce2bef8>,\n",
       " <Element a at 0x25a0ce2bf48>,\n",
       " <Element a at 0x25a0ce2bf98>,\n",
       " <Element a at 0x25a0ce31048>,\n",
       " <Element a at 0x25a0ce31098>,\n",
       " <Element a at 0x25a0ce310e8>,\n",
       " <Element a at 0x25a0ce31138>,\n",
       " <Element a at 0x25a0ce31188>,\n",
       " <Element a at 0x25a0ce311d8>,\n",
       " <Element a at 0x25a0ce31228>,\n",
       " <Element a at 0x25a0ce31278>,\n",
       " <Element a at 0x25a0ce312c8>,\n",
       " <Element a at 0x25a0ce31318>,\n",
       " <Element a at 0x25a0ce31368>,\n",
       " <Element a at 0x25a0ce313b8>,\n",
       " <Element a at 0x25a0ce31408>,\n",
       " <Element a at 0x25a0ce31458>,\n",
       " <Element a at 0x25a0ce314a8>,\n",
       " <Element a at 0x25a0ce314f8>,\n",
       " <Element a at 0x25a0ce31548>,\n",
       " <Element a at 0x25a0ce31598>,\n",
       " <Element a at 0x25a0ce315e8>,\n",
       " <Element a at 0x25a0ce31638>,\n",
       " <Element a at 0x25a0ce31688>,\n",
       " <Element a at 0x25a0ce316d8>,\n",
       " <Element a at 0x25a0ce31728>,\n",
       " <Element a at 0x25a0ce31778>,\n",
       " <Element a at 0x25a0ce317c8>,\n",
       " <Element a at 0x25a0ce31818>,\n",
       " <Element a at 0x25a0ce31868>,\n",
       " <Element a at 0x25a0ce318b8>,\n",
       " <Element a at 0x25a0ce31908>,\n",
       " <Element a at 0x25a0ce31958>,\n",
       " <Element a at 0x25a0ce319a8>,\n",
       " <Element a at 0x25a0ce319f8>,\n",
       " <Element a at 0x25a0ce31a48>,\n",
       " <Element a at 0x25a0ce31a98>,\n",
       " <Element a at 0x25a0ce31ae8>,\n",
       " <Element a at 0x25a0ce31b38>,\n",
       " <Element a at 0x25a0ce31b88>,\n",
       " <Element a at 0x25a0ce31bd8>,\n",
       " <Element a at 0x25a0ce31c28>,\n",
       " <Element a at 0x25a0ce31c78>,\n",
       " <Element a at 0x25a0ce31cc8>,\n",
       " <Element a at 0x25a0ce31d18>,\n",
       " <Element a at 0x25a0ce31d68>,\n",
       " <Element a at 0x25a0ce31db8>,\n",
       " <Element a at 0x25a0ce31e08>,\n",
       " <Element a at 0x25a0ce31e58>,\n",
       " <Element a at 0x25a0ce31ea8>,\n",
       " <Element a at 0x25a0ce31ef8>,\n",
       " <Element a at 0x25a0ce31f48>,\n",
       " <Element a at 0x25a0ce31f98>,\n",
       " <Element a at 0x25a0ce32048>,\n",
       " <Element a at 0x25a0ce32098>,\n",
       " <Element a at 0x25a0ce320e8>,\n",
       " <Element a at 0x25a0ce32138>,\n",
       " <Element a at 0x25a0ce32188>,\n",
       " <Element a at 0x25a0ce321d8>,\n",
       " <Element a at 0x25a0ce32228>,\n",
       " <Element a at 0x25a0ce32278>,\n",
       " <Element a at 0x25a0ce322c8>,\n",
       " <Element a at 0x25a0ce32318>,\n",
       " <Element a at 0x25a0ce32368>,\n",
       " <Element a at 0x25a0ce323b8>,\n",
       " <Element a at 0x25a0ce32408>,\n",
       " <Element a at 0x25a0ce32458>,\n",
       " <Element a at 0x25a0ce324a8>,\n",
       " <Element a at 0x25a0ce324f8>,\n",
       " <Element a at 0x25a0ce32548>,\n",
       " <Element a at 0x25a0ce32598>,\n",
       " <Element a at 0x25a0ce325e8>,\n",
       " <Element a at 0x25a0ce32638>,\n",
       " <Element a at 0x25a0ce32688>,\n",
       " <Element a at 0x25a0ce326d8>,\n",
       " <Element a at 0x25a0ce32728>,\n",
       " <Element a at 0x25a0ce32778>,\n",
       " <Element a at 0x25a0ce327c8>,\n",
       " <Element a at 0x25a0ce32818>,\n",
       " <Element a at 0x25a0ce32868>,\n",
       " <Element a at 0x25a0ce328b8>,\n",
       " <Element a at 0x25a0ce32908>,\n",
       " <Element a at 0x25a0ce32958>,\n",
       " <Element a at 0x25a0ce329a8>,\n",
       " <Element a at 0x25a0ce329f8>,\n",
       " <Element a at 0x25a0ce32a48>,\n",
       " <Element a at 0x25a0ce32a98>,\n",
       " <Element a at 0x25a0ce32ae8>,\n",
       " <Element a at 0x25a0ce32b38>,\n",
       " <Element a at 0x25a0ce32b88>,\n",
       " <Element a at 0x25a0ce32bd8>,\n",
       " <Element a at 0x25a0ce32c28>,\n",
       " <Element a at 0x25a0ce32c78>,\n",
       " <Element a at 0x25a0ce32cc8>,\n",
       " <Element a at 0x25a0ce32d18>,\n",
       " <Element a at 0x25a0ce32d68>,\n",
       " <Element a at 0x25a0ce32db8>,\n",
       " <Element a at 0x25a0ce32e08>,\n",
       " <Element a at 0x25a0ce32e58>,\n",
       " <Element a at 0x25a0ce32ea8>,\n",
       " <Element a at 0x25a0ce32ef8>,\n",
       " <Element a at 0x25a0ce32f48>,\n",
       " <Element a at 0x25a0ce32f98>,\n",
       " <Element a at 0x25a0ce33048>,\n",
       " <Element a at 0x25a0ce33098>,\n",
       " <Element a at 0x25a0ce330e8>,\n",
       " <Element a at 0x25a0ce33138>,\n",
       " <Element a at 0x25a0ce33188>,\n",
       " <Element a at 0x25a0ce331d8>,\n",
       " <Element a at 0x25a0ce33228>,\n",
       " <Element a at 0x25a0ce33278>,\n",
       " <Element a at 0x25a0ce332c8>,\n",
       " <Element a at 0x25a0ce33318>,\n",
       " <Element a at 0x25a0ce33368>,\n",
       " <Element a at 0x25a0ce333b8>,\n",
       " <Element a at 0x25a0ce33408>,\n",
       " <Element a at 0x25a0ce33458>,\n",
       " <Element a at 0x25a0ce334a8>,\n",
       " <Element a at 0x25a0ce334f8>,\n",
       " <Element a at 0x25a0ce33548>,\n",
       " <Element a at 0x25a0ce33598>,\n",
       " <Element a at 0x25a0ce335e8>,\n",
       " <Element a at 0x25a0ce33638>,\n",
       " <Element a at 0x25a0ce33688>,\n",
       " <Element a at 0x25a0ce336d8>,\n",
       " <Element a at 0x25a0ce33728>,\n",
       " <Element a at 0x25a0ce33778>,\n",
       " <Element a at 0x25a0ce337c8>,\n",
       " <Element a at 0x25a0ce33818>,\n",
       " <Element a at 0x25a0ce33868>,\n",
       " <Element a at 0x25a0ce338b8>,\n",
       " <Element a at 0x25a0ce33908>,\n",
       " <Element a at 0x25a0ce33958>,\n",
       " <Element a at 0x25a0ce339a8>,\n",
       " <Element a at 0x25a0ce339f8>,\n",
       " <Element a at 0x25a0ce33a48>,\n",
       " <Element a at 0x25a0ce33a98>,\n",
       " <Element a at 0x25a0ce33ae8>,\n",
       " <Element a at 0x25a0ce33b38>,\n",
       " <Element a at 0x25a0ce33b88>,\n",
       " <Element a at 0x25a0ce33bd8>,\n",
       " <Element a at 0x25a0ce33c28>,\n",
       " <Element a at 0x25a0ce33c78>,\n",
       " <Element a at 0x25a0ce33cc8>,\n",
       " <Element a at 0x25a0ce33d18>,\n",
       " <Element a at 0x25a0ce33d68>,\n",
       " <Element a at 0x25a0ce33db8>,\n",
       " <Element a at 0x25a0ce33e08>,\n",
       " <Element a at 0x25a0ce33e58>,\n",
       " <Element a at 0x25a0ce33ea8>,\n",
       " <Element a at 0x25a0ce33ef8>,\n",
       " <Element a at 0x25a0ce33f48>,\n",
       " <Element a at 0x25a0ce33f98>,\n",
       " <Element a at 0x25a0ce34048>,\n",
       " <Element a at 0x25a0ce34098>,\n",
       " <Element a at 0x25a0ce340e8>,\n",
       " <Element a at 0x25a0ce34138>,\n",
       " <Element a at 0x25a0ce34188>,\n",
       " <Element a at 0x25a0ce341d8>,\n",
       " <Element a at 0x25a0ce34228>,\n",
       " <Element a at 0x25a0ce34278>,\n",
       " <Element a at 0x25a0ce342c8>,\n",
       " <Element a at 0x25a0ce34318>,\n",
       " <Element a at 0x25a0ce34368>,\n",
       " <Element a at 0x25a0ce343b8>,\n",
       " <Element a at 0x25a0ce34408>,\n",
       " <Element a at 0x25a0ce34458>,\n",
       " <Element a at 0x25a0ce344a8>,\n",
       " <Element a at 0x25a0ce344f8>,\n",
       " <Element a at 0x25a0ce34548>,\n",
       " <Element a at 0x25a0ce34598>,\n",
       " <Element a at 0x25a0ce345e8>,\n",
       " <Element a at 0x25a0ce34638>,\n",
       " <Element a at 0x25a0ce34688>,\n",
       " <Element a at 0x25a0ce346d8>,\n",
       " <Element a at 0x25a0ce34728>,\n",
       " <Element a at 0x25a0ce34778>,\n",
       " <Element a at 0x25a0ce347c8>,\n",
       " <Element a at 0x25a0ce34818>,\n",
       " <Element a at 0x25a0ce34868>,\n",
       " <Element a at 0x25a0ce348b8>,\n",
       " <Element a at 0x25a0ce34908>,\n",
       " <Element a at 0x25a0ce34958>,\n",
       " <Element a at 0x25a0ce349a8>,\n",
       " <Element a at 0x25a0ce349f8>,\n",
       " <Element a at 0x25a0ce34a48>,\n",
       " <Element a at 0x25a0ce34a98>,\n",
       " <Element a at 0x25a0ce34ae8>,\n",
       " <Element a at 0x25a0ce34b38>,\n",
       " <Element a at 0x25a0ce34b88>,\n",
       " <Element a at 0x25a0ce34bd8>,\n",
       " <Element a at 0x25a0ce34c28>,\n",
       " <Element a at 0x25a0ce34c78>,\n",
       " <Element a at 0x25a0ce34cc8>,\n",
       " <Element a at 0x25a0ce34d18>,\n",
       " <Element a at 0x25a0ce34d68>,\n",
       " <Element a at 0x25a0ce34db8>,\n",
       " <Element a at 0x25a0ce34e08>,\n",
       " <Element a at 0x25a0ce34e58>,\n",
       " <Element a at 0x25a0ce34ea8>,\n",
       " <Element a at 0x25a0ce34ef8>,\n",
       " <Element a at 0x25a0ce34f48>,\n",
       " <Element a at 0x25a0ce34f98>,\n",
       " <Element a at 0x25a0ce35048>,\n",
       " <Element a at 0x25a0ce35098>,\n",
       " <Element a at 0x25a0ce350e8>,\n",
       " <Element a at 0x25a0ce35138>,\n",
       " <Element a at 0x25a0ce35188>,\n",
       " <Element a at 0x25a0ce351d8>,\n",
       " <Element a at 0x25a0ce35228>,\n",
       " <Element a at 0x25a0ce35278>,\n",
       " <Element a at 0x25a0ce352c8>,\n",
       " <Element a at 0x25a0ce35318>,\n",
       " <Element a at 0x25a0ce35368>,\n",
       " <Element a at 0x25a0ce353b8>,\n",
       " <Element a at 0x25a0ce35408>,\n",
       " <Element a at 0x25a0ce35458>,\n",
       " <Element a at 0x25a0ce354a8>,\n",
       " <Element a at 0x25a0ce354f8>,\n",
       " <Element a at 0x25a0ce35548>,\n",
       " <Element a at 0x25a0ce35598>,\n",
       " <Element a at 0x25a0ce355e8>,\n",
       " <Element a at 0x25a0ce35638>,\n",
       " <Element a at 0x25a0ce35688>,\n",
       " <Element a at 0x25a0ce356d8>,\n",
       " <Element a at 0x25a0ce35728>,\n",
       " <Element a at 0x25a0ce35778>,\n",
       " <Element a at 0x25a0ce357c8>,\n",
       " <Element a at 0x25a0ce35818>,\n",
       " <Element a at 0x25a0ce35868>,\n",
       " <Element a at 0x25a0ce358b8>,\n",
       " <Element a at 0x25a0ce35908>,\n",
       " <Element a at 0x25a0ce35958>,\n",
       " <Element a at 0x25a0ce359a8>,\n",
       " <Element a at 0x25a0ce359f8>,\n",
       " <Element a at 0x25a0ce35a48>,\n",
       " <Element a at 0x25a0ce35a98>,\n",
       " <Element a at 0x25a0ce35ae8>,\n",
       " <Element a at 0x25a0ce35b38>,\n",
       " <Element a at 0x25a0ce35b88>,\n",
       " <Element a at 0x25a0ce35bd8>,\n",
       " <Element a at 0x25a0ce35c28>,\n",
       " <Element a at 0x25a0ce35c78>,\n",
       " <Element a at 0x25a0ce35cc8>,\n",
       " <Element a at 0x25a0ce35d18>,\n",
       " <Element a at 0x25a0ce35d68>,\n",
       " <Element a at 0x25a0ce35db8>,\n",
       " <Element a at 0x25a0ce35e08>,\n",
       " <Element a at 0x25a0ce35e58>,\n",
       " <Element a at 0x25a0ce35ea8>,\n",
       " <Element a at 0x25a0ce35ef8>,\n",
       " <Element a at 0x25a0ce35f48>,\n",
       " <Element a at 0x25a0ce35f98>,\n",
       " <Element a at 0x25a0ce36048>,\n",
       " <Element a at 0x25a0ce36098>,\n",
       " <Element a at 0x25a0ce360e8>,\n",
       " <Element a at 0x25a0ce36138>,\n",
       " <Element a at 0x25a0ce36188>,\n",
       " <Element a at 0x25a0ce361d8>,\n",
       " <Element a at 0x25a0ce36228>,\n",
       " <Element a at 0x25a0ce36278>,\n",
       " <Element a at 0x25a0ce362c8>,\n",
       " <Element a at 0x25a0ce36318>,\n",
       " <Element a at 0x25a0ce36368>,\n",
       " <Element a at 0x25a0ce363b8>,\n",
       " <Element a at 0x25a0ce36408>,\n",
       " <Element a at 0x25a0ce36458>,\n",
       " <Element a at 0x25a0ce364a8>,\n",
       " <Element a at 0x25a0ce364f8>,\n",
       " <Element a at 0x25a0ce36548>,\n",
       " <Element a at 0x25a0ce36598>,\n",
       " <Element a at 0x25a0ce365e8>,\n",
       " <Element a at 0x25a0ce36638>,\n",
       " <Element a at 0x25a0ce36688>,\n",
       " <Element a at 0x25a0ce366d8>,\n",
       " <Element a at 0x25a0ce36728>,\n",
       " <Element a at 0x25a0ce36778>,\n",
       " <Element a at 0x25a0ce367c8>,\n",
       " <Element a at 0x25a0ce36818>,\n",
       " <Element a at 0x25a0ce36868>,\n",
       " <Element a at 0x25a0ce368b8>,\n",
       " <Element a at 0x25a0ce36908>,\n",
       " <Element a at 0x25a0ce36958>,\n",
       " <Element a at 0x25a0ce369a8>,\n",
       " <Element a at 0x25a0ce369f8>,\n",
       " <Element a at 0x25a0ce36a48>,\n",
       " <Element a at 0x25a0ce36a98>,\n",
       " <Element a at 0x25a0ce36ae8>,\n",
       " <Element a at 0x25a0ce36b38>,\n",
       " <Element a at 0x25a0ce36b88>,\n",
       " <Element a at 0x25a0ce36bd8>,\n",
       " <Element a at 0x25a0ce36c28>,\n",
       " <Element a at 0x25a0ce36c78>,\n",
       " <Element a at 0x25a0ce36cc8>,\n",
       " <Element a at 0x25a0ce36d18>,\n",
       " <Element a at 0x25a0ce36d68>,\n",
       " <Element a at 0x25a0ce36db8>,\n",
       " <Element a at 0x25a0ce36e08>,\n",
       " <Element a at 0x25a0ce36e58>,\n",
       " <Element a at 0x25a0ce36ea8>,\n",
       " <Element a at 0x25a0ce36ef8>,\n",
       " <Element a at 0x25a0ce36f48>,\n",
       " <Element a at 0x25a0ce36f98>,\n",
       " <Element a at 0x25a0ce37048>,\n",
       " <Element a at 0x25a0ce37098>,\n",
       " <Element a at 0x25a0ce370e8>,\n",
       " <Element a at 0x25a0ce37138>,\n",
       " <Element a at 0x25a0ce37188>,\n",
       " <Element a at 0x25a0ce371d8>,\n",
       " <Element a at 0x25a0ce37228>,\n",
       " <Element a at 0x25a0ce37278>,\n",
       " <Element a at 0x25a0ce372c8>,\n",
       " <Element a at 0x25a0ce37318>,\n",
       " <Element a at 0x25a0ce37368>,\n",
       " <Element a at 0x25a0ce373b8>,\n",
       " <Element a at 0x25a0ce37408>,\n",
       " <Element a at 0x25a0ce37458>,\n",
       " <Element a at 0x25a0ce374a8>,\n",
       " <Element a at 0x25a0ce374f8>,\n",
       " <Element a at 0x25a0ce37548>,\n",
       " <Element a at 0x25a0ce37598>]"
      ]
     },
     "execution_count": 18,
     "metadata": {},
     "output_type": "execute_result"
    }
   ],
   "source": [
    "root.cssselect('a')"
   ]
  },
  {
   "cell_type": "markdown",
   "metadata": {},
   "source": [
    "## 속성\n",
    "HTML 태그는 **속성**(attribute)라는 추가 정보를 포함한다. 대표적인 것은 다음과 같다.\n",
    "\n",
    "- `id`: 노드의 고유 아이디\n",
    "- `class`: 노드의 서식 유형\n",
    "- `href`: `a` 태그에만 사용. 링크된 주소.\n",
    "\n",
    "## CSS 선택자\n",
    "- HTML에서 특정 노드를 선택하기 위한 표기법\n",
    "- `.cssselect` 함수에 사용한다\n",
    "\n",
    "## 클래스의 선택자\n",
    "- 특정 class의 태그를 지정할 때는 `태그.클래스`와 같이 `.`으로 표시한다\n",
    "- 선택자에서 `p.tit`는 HTML에서 `<p class=\"tit\">`"
   ]
  },
  {
   "cell_type": "code",
   "execution_count": 20,
   "metadata": {},
   "outputs": [
    {
     "data": {
      "text/plain": [
       "[<Element em at 0x25a0cdfd3b8>,\n",
       " <Element em at 0x25a0cdfd688>,\n",
       " <Element em at 0x25a0ce37b88>,\n",
       " <Element em at 0x25a0ce377c8>,\n",
       " <Element em at 0x25a0ce37a98>,\n",
       " <Element em at 0x25a0ce379f8>,\n",
       " <Element em at 0x25a0ce37bd8>,\n",
       " <Element em at 0x25a0ce37c28>,\n",
       " <Element em at 0x25a0ce37c78>,\n",
       " <Element em at 0x25a0ce37cc8>,\n",
       " <Element em at 0x25a0ce37d18>,\n",
       " <Element em at 0x25a0ce37d68>,\n",
       " <Element em at 0x25a0ce37db8>,\n",
       " <Element em at 0x25a0ce37e08>,\n",
       " <Element em at 0x25a0ce37e58>,\n",
       " <Element em at 0x25a0ce37ea8>,\n",
       " <Element em at 0x25a0ce37ef8>,\n",
       " <Element em at 0x25a0ce37f48>]"
      ]
     },
     "execution_count": 20,
     "metadata": {},
     "output_type": "execute_result"
    }
   ],
   "source": [
    "root.cssselect('em.cr') #clsss 가생략 class 선택한거임"
   ]
  },
  {
   "cell_type": "markdown",
   "metadata": {},
   "source": [
    "## 클래스가 2개일 때\n",
    "- `태그.클래스1.클래스2`와 같이 `.`으로 구분하여 표시한다\n",
    "- 선택자에서 `p.tit.ellipsis`는 HTML에서 `<p class=\"tit ellipsis\">`\n",
    "- `p.tit`이나 `p.ellipsis`만 해도 `p.tit.ellipsis`는 선택 된다\n",
    "\n",
    "## 포함관계인 노드의 선택자\n",
    "```html\n",
    "<p class=\"tit ellipsis\">\n",
    "    <a href=\"...\">아우디 A8</a>\n",
    "</p>\n",
    "```\n",
    "- 위의 예는 `p` 태그 안에 `a` 태그가 포함됨\n",
    "- 선택자에서 포함관계는 공백으로 표시: `p.tit a`"
   ]
  },
  {
   "cell_type": "code",
   "execution_count": 22,
   "metadata": {},
   "outputs": [],
   "source": [
    "links = root.cssselect('p.tit a')"
   ]
  },
  {
   "cell_type": "code",
   "execution_count": 23,
   "metadata": {},
   "outputs": [
    {
     "data": {
      "text/plain": [
       "[<Element a at 0x25a0cdfd598>,\n",
       " <Element a at 0x25a0ce3a318>,\n",
       " <Element a at 0x25a0ce3a3b8>,\n",
       " <Element a at 0x25a0ce3a408>,\n",
       " <Element a at 0x25a0ce3a458>,\n",
       " <Element a at 0x25a0ce3a4a8>,\n",
       " <Element a at 0x25a0ce3a548>,\n",
       " <Element a at 0x25a0ce3a598>,\n",
       " <Element a at 0x25a0ce3a5e8>,\n",
       " <Element a at 0x25a0ce3a638>,\n",
       " <Element a at 0x25a0ce3a098>,\n",
       " <Element a at 0x25a0ce3a688>,\n",
       " <Element a at 0x25a0ce3a6d8>,\n",
       " <Element a at 0x25a0ce3a728>,\n",
       " <Element a at 0x25a0ce3a778>,\n",
       " <Element a at 0x25a0ce3a7c8>,\n",
       " <Element a at 0x25a0ce3a818>,\n",
       " <Element a at 0x25a0ce3a868>,\n",
       " <Element a at 0x25a0ce3a8b8>,\n",
       " <Element a at 0x25a0ce3a908>]"
      ]
     },
     "execution_count": 23,
     "metadata": {},
     "output_type": "execute_result"
    }
   ],
   "source": [
    "links"
   ]
  },
  {
   "cell_type": "markdown",
   "metadata": {},
   "source": [
    "## href 속성 모으기\n",
    "\n",
    "링크의 걸린 주소를 수집한다"
   ]
  },
  {
   "cell_type": "code",
   "execution_count": 25,
   "metadata": {},
   "outputs": [
    {
     "data": {
      "text/plain": [
       "<Element a at 0x25a0cdfd598>"
      ]
     },
     "execution_count": 25,
     "metadata": {},
     "output_type": "execute_result"
    }
   ],
   "source": [
    "link = links[0]\n",
    "links[0]"
   ]
  },
  {
   "cell_type": "code",
   "execution_count": 26,
   "metadata": {},
   "outputs": [
    {
     "data": {
      "text/plain": [
       "'/mycar/mycar_view.php?no=2050314&gubun=K'"
      ]
     },
     "execution_count": 26,
     "metadata": {},
     "output_type": "execute_result"
    }
   ],
   "source": [
    "link.attrib['href'] "
   ]
  },
  {
   "cell_type": "code",
   "execution_count": 27,
   "metadata": {},
   "outputs": [
    {
     "name": "stdout",
     "output_type": "stream",
     "text": [
      "/mycar/mycar_view.php?no=2050314&gubun=K\n",
      "/mycar/mycar_view.php?no=2050284&gubun=K\n",
      "/mycar/mycar_view.php?no=2050243&gubun=K\n",
      "/mycar/mycar_view.php?no=2050264&gubun=K\n",
      "/mycar/mycar_view.php?no=2050263&gubun=K\n",
      "/mycar/mycar_view.php?no=2050257&gubun=K\n",
      "/mycar/mycar_view.php?no=2050258&gubun=K\n",
      "/mycar/mycar_view.php?no=2050282&gubun=K\n",
      "/mycar/mycar_view.php?no=2050247&gubun=K\n",
      "/mycar/mycar_view.php?no=2050299&gubun=K\n",
      "/mycar/mycar_view.php?no=2050315&gubun=K\n",
      "/mycar/mycar_view.php?no=2050756&gubun=K\n",
      "/mycar/mycar_view.php?no=2040572&gubun=I\n",
      "/mycar/mycar_view.php?no=1886517&gubun=I\n",
      "/mycar/mycar_view.php?no=2050940&gubun=I\n",
      "/mycar/mycar_view.php?no=2050939&gubun=K\n",
      "/mycar/mycar_view.php?no=2050938&gubun=I\n",
      "/mycar/mycar_view.php?no=2043701&gubun=K\n",
      "/mycar/mycar_view.php?no=2043703&gubun=I\n",
      "/mycar/mycar_view.php?no=2045123&gubun=K\n"
     ]
    }
   ],
   "source": [
    "for link in links:\n",
    "    print(link.attrib['href'])"
   ]
  },
  {
   "cell_type": "code",
   "execution_count": 28,
   "metadata": {},
   "outputs": [
    {
     "data": {
      "text/plain": [
       "[1, 2, 3, 5]"
      ]
     },
     "execution_count": 28,
     "metadata": {},
     "output_type": "execute_result"
    }
   ],
   "source": [
    "x = [1,2,3]\n",
    "x.append(5)\n",
    "x"
   ]
  },
  {
   "cell_type": "code",
   "execution_count": 29,
   "metadata": {},
   "outputs": [],
   "source": [
    "urls = []\n",
    "for link in links:\n",
    "    urls.append(link.attrib['href'])"
   ]
  },
  {
   "cell_type": "code",
   "execution_count": 30,
   "metadata": {},
   "outputs": [
    {
     "data": {
      "text/plain": [
       "['/mycar/mycar_view.php?no=2050314&gubun=K',\n",
       " '/mycar/mycar_view.php?no=2050284&gubun=K',\n",
       " '/mycar/mycar_view.php?no=2050243&gubun=K',\n",
       " '/mycar/mycar_view.php?no=2050264&gubun=K',\n",
       " '/mycar/mycar_view.php?no=2050263&gubun=K',\n",
       " '/mycar/mycar_view.php?no=2050257&gubun=K',\n",
       " '/mycar/mycar_view.php?no=2050258&gubun=K',\n",
       " '/mycar/mycar_view.php?no=2050282&gubun=K',\n",
       " '/mycar/mycar_view.php?no=2050247&gubun=K',\n",
       " '/mycar/mycar_view.php?no=2050299&gubun=K',\n",
       " '/mycar/mycar_view.php?no=2050315&gubun=K',\n",
       " '/mycar/mycar_view.php?no=2050756&gubun=K',\n",
       " '/mycar/mycar_view.php?no=2040572&gubun=I',\n",
       " '/mycar/mycar_view.php?no=1886517&gubun=I',\n",
       " '/mycar/mycar_view.php?no=2050940&gubun=I',\n",
       " '/mycar/mycar_view.php?no=2050939&gubun=K',\n",
       " '/mycar/mycar_view.php?no=2050938&gubun=I',\n",
       " '/mycar/mycar_view.php?no=2043701&gubun=K',\n",
       " '/mycar/mycar_view.php?no=2043703&gubun=I',\n",
       " '/mycar/mycar_view.php?no=2045123&gubun=K']"
      ]
     },
     "execution_count": 30,
     "metadata": {},
     "output_type": "execute_result"
    }
   ],
   "source": [
    "urls"
   ]
  },
  {
   "cell_type": "markdown",
   "metadata": {},
   "source": [
    "## 상대주소\n",
    "\n",
    "- `/mycar/mycar_view.php?no=1944109&gubun=K`는 스키마와 호스트가 생략된 상대주소\n",
    "\n",
    "- 원래 주소 `http://www.bobaedream.co.kr/mycar/mycar_list.php?sel_m_gubun=ALL&page=2`를 이용해 절대주소로 변환"
   ]
  },
  {
   "cell_type": "code",
   "execution_count": 32,
   "metadata": {},
   "outputs": [],
   "source": [
    "import urllib.parse"
   ]
  },
  {
   "cell_type": "code",
   "execution_count": 33,
   "metadata": {},
   "outputs": [
    {
     "data": {
      "text/plain": [
       "'http://www.bobaedream.co.kr/mycar/mycar_view.php?no=1944109&gubun=K'"
      ]
     },
     "execution_count": 33,
     "metadata": {},
     "output_type": "execute_result"
    }
   ],
   "source": [
    "urllib.parse.urljoin(url, '/mycar/mycar_view.php?no=1944109&gubun=K')"
   ]
  },
  {
   "cell_type": "markdown",
   "metadata": {},
   "source": [
    "링크된 주소를 절대 주소로 수집"
   ]
  },
  {
   "cell_type": "code",
   "execution_count": 34,
   "metadata": {},
   "outputs": [],
   "source": [
    "urls = []\n",
    "for link in links:\n",
    "    href = urllib.parse.urljoin(url, link.attrib['href'])\n",
    "    urls.append(href)"
   ]
  },
  {
   "cell_type": "code",
   "execution_count": 35,
   "metadata": {},
   "outputs": [
    {
     "data": {
      "text/plain": [
       "['http://www.bobaedream.co.kr/mycar/mycar_view.php?no=2050314&gubun=K',\n",
       " 'http://www.bobaedream.co.kr/mycar/mycar_view.php?no=2050284&gubun=K',\n",
       " 'http://www.bobaedream.co.kr/mycar/mycar_view.php?no=2050243&gubun=K',\n",
       " 'http://www.bobaedream.co.kr/mycar/mycar_view.php?no=2050264&gubun=K',\n",
       " 'http://www.bobaedream.co.kr/mycar/mycar_view.php?no=2050263&gubun=K',\n",
       " 'http://www.bobaedream.co.kr/mycar/mycar_view.php?no=2050257&gubun=K',\n",
       " 'http://www.bobaedream.co.kr/mycar/mycar_view.php?no=2050258&gubun=K',\n",
       " 'http://www.bobaedream.co.kr/mycar/mycar_view.php?no=2050282&gubun=K',\n",
       " 'http://www.bobaedream.co.kr/mycar/mycar_view.php?no=2050247&gubun=K',\n",
       " 'http://www.bobaedream.co.kr/mycar/mycar_view.php?no=2050299&gubun=K',\n",
       " 'http://www.bobaedream.co.kr/mycar/mycar_view.php?no=2050315&gubun=K',\n",
       " 'http://www.bobaedream.co.kr/mycar/mycar_view.php?no=2050756&gubun=K',\n",
       " 'http://www.bobaedream.co.kr/mycar/mycar_view.php?no=2040572&gubun=I',\n",
       " 'http://www.bobaedream.co.kr/mycar/mycar_view.php?no=1886517&gubun=I',\n",
       " 'http://www.bobaedream.co.kr/mycar/mycar_view.php?no=2050940&gubun=I',\n",
       " 'http://www.bobaedream.co.kr/mycar/mycar_view.php?no=2050939&gubun=K',\n",
       " 'http://www.bobaedream.co.kr/mycar/mycar_view.php?no=2050938&gubun=I',\n",
       " 'http://www.bobaedream.co.kr/mycar/mycar_view.php?no=2043701&gubun=K',\n",
       " 'http://www.bobaedream.co.kr/mycar/mycar_view.php?no=2043703&gubun=I',\n",
       " 'http://www.bobaedream.co.kr/mycar/mycar_view.php?no=2045123&gubun=K']"
      ]
     },
     "execution_count": 35,
     "metadata": {},
     "output_type": "execute_result"
    }
   ],
   "source": [
    "urls"
   ]
  },
  {
   "cell_type": "markdown",
   "metadata": {},
   "source": [
    "링크에서 텍스트를 추출"
   ]
  },
  {
   "cell_type": "code",
   "execution_count": 36,
   "metadata": {},
   "outputs": [],
   "source": [
    "texts = []\n",
    "for link in links:\n",
    "    texts.append(link.text_content())"
   ]
  },
  {
   "cell_type": "code",
   "execution_count": 37,
   "metadata": {},
   "outputs": [
    {
     "data": {
      "text/plain": [
       "['르노삼성 SM5 노바 디젤 D ',\n",
       " '기아 더 뉴 K9 3.3 GDI  프레스티지',\n",
       " '현대 싼타페 더 프라임 2.0 디젤 2WD  스마트',\n",
       " '현대 제네시스 BH330  럭셔리',\n",
       " '현대 올 뉴 투싼 1.7 E-VGT 2WD  스타일',\n",
       " '현대 뉴 제네시스 G330  모던 AWD',\n",
       " '현대 뉴 에쿠스 VS 500  프레스티지',\n",
       " '기아 올 뉴 K7 하이브리드 2.4 HEV  프레스티지',\n",
       " '현대 베라크루즈 2WD 300VX  럭셔리',\n",
       " '기아 더 뉴 스포티지R 2.0 디젤 2WD  트렌디',\n",
       " '쉐보레 더 뉴 트랙스 1.6 디젤  LT',\n",
       " 'GM대우 라세티 프리미어 CDX 고급형',\n",
       " '포드 F150 3.5 에코부스트 4WD',\n",
       " '스마트 포투 쿠페',\n",
       " '혼다 어코드 3.5 세단',\n",
       " '르노삼성 QM3 RE ',\n",
       " '아우디 A5 40 TFSI 콰트로 카브리올레 ',\n",
       " '기아 올 뉴 카니발 2.2 디젤 11인승 디럭스',\n",
       " '벤츠 E220 CDI 아방가르드',\n",
       " '기아 더 뉴 K3 1.6 GDi 노블레스']"
      ]
     },
     "execution_count": 37,
     "metadata": {},
     "output_type": "execute_result"
    }
   ],
   "source": [
    "texts"
   ]
  },
  {
   "cell_type": "markdown",
   "metadata": {},
   "source": [
    "수집된 주소를 저장"
   ]
  },
  {
   "cell_type": "code",
   "execution_count": 39,
   "metadata": {},
   "outputs": [],
   "source": [
    "import pandas"
   ]
  },
  {
   "cell_type": "code",
   "execution_count": 40,
   "metadata": {},
   "outputs": [],
   "source": [
    "df = pandas.DataFrame({'url': urls, 'text': texts})"
   ]
  },
  {
   "cell_type": "code",
   "execution_count": 41,
   "metadata": {},
   "outputs": [
    {
     "data": {
      "text/html": [
       "<div>\n",
       "<style scoped>\n",
       "    .dataframe tbody tr th:only-of-type {\n",
       "        vertical-align: middle;\n",
       "    }\n",
       "\n",
       "    .dataframe tbody tr th {\n",
       "        vertical-align: top;\n",
       "    }\n",
       "\n",
       "    .dataframe thead th {\n",
       "        text-align: right;\n",
       "    }\n",
       "</style>\n",
       "<table border=\"1\" class=\"dataframe\">\n",
       "  <thead>\n",
       "    <tr style=\"text-align: right;\">\n",
       "      <th></th>\n",
       "      <th>url</th>\n",
       "      <th>text</th>\n",
       "    </tr>\n",
       "  </thead>\n",
       "  <tbody>\n",
       "    <tr>\n",
       "      <th>0</th>\n",
       "      <td>http://www.bobaedream.co.kr/mycar/mycar_view.p...</td>\n",
       "      <td>르노삼성 SM5 노바 디젤 D</td>\n",
       "    </tr>\n",
       "    <tr>\n",
       "      <th>1</th>\n",
       "      <td>http://www.bobaedream.co.kr/mycar/mycar_view.p...</td>\n",
       "      <td>기아 더 뉴 K9 3.3 GDI  프레스티지</td>\n",
       "    </tr>\n",
       "    <tr>\n",
       "      <th>2</th>\n",
       "      <td>http://www.bobaedream.co.kr/mycar/mycar_view.p...</td>\n",
       "      <td>현대 싼타페 더 프라임 2.0 디젤 2WD  스마트</td>\n",
       "    </tr>\n",
       "    <tr>\n",
       "      <th>3</th>\n",
       "      <td>http://www.bobaedream.co.kr/mycar/mycar_view.p...</td>\n",
       "      <td>현대 제네시스 BH330  럭셔리</td>\n",
       "    </tr>\n",
       "    <tr>\n",
       "      <th>4</th>\n",
       "      <td>http://www.bobaedream.co.kr/mycar/mycar_view.p...</td>\n",
       "      <td>현대 올 뉴 투싼 1.7 E-VGT 2WD  스타일</td>\n",
       "    </tr>\n",
       "  </tbody>\n",
       "</table>\n",
       "</div>"
      ],
      "text/plain": [
       "                                                 url  \\\n",
       "0  http://www.bobaedream.co.kr/mycar/mycar_view.p...   \n",
       "1  http://www.bobaedream.co.kr/mycar/mycar_view.p...   \n",
       "2  http://www.bobaedream.co.kr/mycar/mycar_view.p...   \n",
       "3  http://www.bobaedream.co.kr/mycar/mycar_view.p...   \n",
       "4  http://www.bobaedream.co.kr/mycar/mycar_view.p...   \n",
       "\n",
       "                           text  \n",
       "0             르노삼성 SM5 노바 디젤 D   \n",
       "1      기아 더 뉴 K9 3.3 GDI  프레스티지  \n",
       "2  현대 싼타페 더 프라임 2.0 디젤 2WD  스마트  \n",
       "3            현대 제네시스 BH330  럭셔리  \n",
       "4  현대 올 뉴 투싼 1.7 E-VGT 2WD  스타일  "
      ]
     },
     "execution_count": 41,
     "metadata": {},
     "output_type": "execute_result"
    }
   ],
   "source": [
    "df.head()"
   ]
  },
  {
   "cell_type": "code",
   "execution_count": 43,
   "metadata": {},
   "outputs": [],
   "source": [
    "df.to_excel('중고차.xlsx')"
   ]
  },
  {
   "cell_type": "markdown",
   "metadata": {},
   "source": [
    "# 웹 스크랩 2"
   ]
  },
  {
   "cell_type": "markdown",
   "metadata": {},
   "source": [
    "## 네이버 의사모\n",
    "- PC버전: https://cafe.naver.com/duoin\n",
    "- 모바일버전: https://m.cafe.naver.com/duoin\n",
    "\n",
    "모바일 버전은 주소 m이 들어가있는 형태가 많음\n",
    "\n",
    "## 본문 긁기\n",
    "https://m.cafe.naver.com/ArticleRead.nhn?clubid=19773565&articleid=83048&page=1&boardtype=L&menuid=366"
   ]
  },
  {
   "cell_type": "code",
   "execution_count": 49,
   "metadata": {},
   "outputs": [],
   "source": [
    "import requests\n",
    "article_url = 'https://m.cafe.naver.com/ArticleRead.nhn?clubid=19773565&articleid=83048&page=1&boardtype=L&menuid=366'"
   ]
  },
  {
   "cell_type": "code",
   "execution_count": 50,
   "metadata": {},
   "outputs": [],
   "source": [
    "res = requests.get(article_url)"
   ]
  },
  {
   "cell_type": "markdown",
   "metadata": {},
   "source": [
    "## id 선택자\n",
    "\n",
    "- 본문 영역은 다음 태그로 감싸여 있다\n",
    "\n",
    "```html\n",
    "<div id=\"postContent\" class=\"post_cont font_zoom1\" style=\"overflow-x:auto;\">\n",
    "```\n",
    "\n",
    "- `id`는 선택자에서 `#`으로 표시"
   ]
  },
  {
   "cell_type": "code",
   "execution_count": 51,
   "metadata": {},
   "outputs": [],
   "source": [
    "import lxml.html\n",
    "root = lxml.html.fromstring(res.text)"
   ]
  },
  {
   "cell_type": "code",
   "execution_count": 52,
   "metadata": {},
   "outputs": [
    {
     "data": {
      "text/plain": [
       "[]"
      ]
     },
     "execution_count": 52,
     "metadata": {},
     "output_type": "execute_result"
    }
   ],
   "source": [
    "root.cssselect('div#postContent')"
   ]
  },
  {
   "cell_type": "markdown",
   "metadata": {},
   "source": [
    "## 본문 내용 보기\n",
    "\n",
    "- `cssselect`는 결과를 항상 리스트 형식으로 반환\n",
    "- 본문은 리스트의 첫번째 값이므로 0번을 지정"
   ]
  },
  {
   "cell_type": "code",
   "execution_count": 54,
   "metadata": {},
   "outputs": [
    {
     "ename": "IndexError",
     "evalue": "list index out of range",
     "output_type": "error",
     "traceback": [
      "\u001b[1;31m---------------------------------------------------------------------------\u001b[0m",
      "\u001b[1;31mIndexError\u001b[0m                                Traceback (most recent call last)",
      "\u001b[1;32m<ipython-input-54-3826c78a4aa2>\u001b[0m in \u001b[0;36m<module>\u001b[1;34m\u001b[0m\n\u001b[1;32m----> 1\u001b[1;33m \u001b[0mcontent\u001b[0m \u001b[1;33m=\u001b[0m \u001b[0mroot\u001b[0m\u001b[1;33m.\u001b[0m\u001b[0mcssselect\u001b[0m\u001b[1;33m(\u001b[0m\u001b[1;34m'div#postContent'\u001b[0m\u001b[1;33m)\u001b[0m\u001b[1;33m[\u001b[0m\u001b[1;36m0\u001b[0m\u001b[1;33m]\u001b[0m\u001b[1;33m\u001b[0m\u001b[1;33m\u001b[0m\u001b[0m\n\u001b[0m",
      "\u001b[1;31mIndexError\u001b[0m: list index out of range"
     ]
    }
   ],
   "source": [
    "content = root.cssselect('div#postContent')[0]"
   ]
  },
  {
   "cell_type": "code",
   "execution_count": null,
   "metadata": {},
   "outputs": [],
   "source": [
    "content.text_content()"
   ]
  },
  {
   "cell_type": "markdown",
   "metadata": {},
   "source": [
    "## 정규표현식으로 공백지우기\n",
    "\n",
    "- `\\n`, `\\t`는 엔터와 탭을 나타냄. \n",
    "- 공백문자는 택스트 분석에서 무시되므로 굳이 지울 필요는 없음\n",
    "- 깔끔하게 처리하고 싶으면\n",
    "- 불필요한 공백을 지우려면 다음과 같이 정규표현식 사용"
   ]
  },
  {
   "cell_type": "code",
   "execution_count": null,
   "metadata": {},
   "outputs": [],
   "source": [
    "import re"
   ]
  },
  {
   "cell_type": "code",
   "execution_count": null,
   "metadata": {},
   "outputs": [],
   "source": [
    "re.sub('[\\s\\u200b]+', ' ', content.text_content())"
   ]
  },
  {
   "cell_type": "markdown",
   "metadata": {},
   "source": [
    "## 정규표현식 설명\n",
    "\n",
    "- 정규표현식에서 `[]`는 교체할 글자 범위\n",
    "- `\\s`는 일반적 공백\n",
    "- `\\u200b는 유니코드의 `200B` 폭없는 공백 문자\n",
    "- 끝의 +는 1개 이상이라는 뜻\n",
    "- `[\\s\\u200b]+` '공백과 폭 없는 공백문자가 1개 이상 반복되는 경우'"
   ]
  },
  {
   "cell_type": "markdown",
   "metadata": {},
   "source": [
    "## 회원 전용 게시판\n",
    "\n",
    "- 모바일 버전으로 접속\n",
    "- 우상단 ☰ 버튼 클릭 후 아래쪽에서 찾음\n",
    "\n",
    "https://m.cafe.naver.com/ArticleList.nhn?search.clubid=19773565&search.menuid=98&search.boardtype=L\n",
    "\n",
    "- 대부분 게시물이 회원만 볼 수 있음\n",
    "\n",
    "https://m.cafe.naver.com/ArticleRead.nhn?clubid=19773565&articleid=82659&page=1&boardtype=L&menuid=98"
   ]
  },
  {
   "cell_type": "markdown",
   "metadata": {},
   "source": [
    "회원 전용 게시판 스크랩"
   ]
  },
  {
   "cell_type": "code",
   "execution_count": null,
   "metadata": {},
   "outputs": [],
   "source": [
    "article_url = 'https://m.cafe.naver.com/ArticleRead.nhn?clubid=19773565&articleid=82659&page=1&boardtype=L&menuid=98'"
   ]
  },
  {
   "cell_type": "code",
   "execution_count": null,
   "metadata": {},
   "outputs": [],
   "source": [
    "res = requests.get(article_url)"
   ]
  },
  {
   "cell_type": "code",
   "execution_count": null,
   "metadata": {},
   "outputs": [],
   "source": [
    "root = lxml.html.fromstring(res.text)"
   ]
  },
  {
   "cell_type": "markdown",
   "metadata": {},
   "source": [
    "본문을 읽을 수 없음"
   ]
  },
  {
   "cell_type": "code",
   "execution_count": null,
   "metadata": {},
   "outputs": [],
   "source": [
    "root.cssselect('#postContent')"
   ]
  },
  {
   "cell_type": "markdown",
   "metadata": {},
   "source": [
    "## 리퍼러 바꾸기\n",
    "\n",
    "- 대부분 네이버 카페 게시물은 검색을 통해서 들어가면 게시물을 볼 수 있음\n",
    "- 마치 검색을 거쳐온 것처럼 하면 회원 전용 게시물도 열람 가능\n",
    "- 리퍼러(referer): 거쳐온 주소"
   ]
  },
  {
   "cell_type": "code",
   "execution_count": null,
   "metadata": {},
   "outputs": [],
   "source": [
    "search_url = 'https://search.naver.com/search.naver?sm=top_hty&fbm=1&ie=utf8&query=1'"
   ]
  },
  {
   "cell_type": "code",
   "execution_count": null,
   "metadata": {},
   "outputs": [],
   "source": [
    "res = requests.get(article_url, headers={'Referer': search_url})"
   ]
  },
  {
   "cell_type": "code",
   "execution_count": null,
   "metadata": {},
   "outputs": [],
   "source": [
    "root = lxml.html.fromstring(res.text)"
   ]
  },
  {
   "cell_type": "markdown",
   "metadata": {},
   "source": [
    "본문 영역이 선택됨"
   ]
  },
  {
   "cell_type": "code",
   "execution_count": null,
   "metadata": {},
   "outputs": [],
   "source": [
    "root.cssselect('#postContent')"
   ]
  },
  {
   "cell_type": "markdown",
   "metadata": {},
   "source": [
    "## 한글이 깨지는 경우\n",
    "\n",
    "대법원 홈페이지에 접속하면 한글이 깨져보인다"
   ]
  },
  {
   "cell_type": "code",
   "execution_count": null,
   "metadata": {},
   "outputs": [],
   "source": [
    "res = requests.get('http://scourt.go.kr/scourt/index.html')"
   ]
  },
  {
   "cell_type": "code",
   "execution_count": null,
   "metadata": {},
   "outputs": [],
   "source": [
    "root = lxml.html.fromstring(res.text)"
   ]
  },
  {
   "cell_type": "code",
   "execution_count": null,
   "metadata": {},
   "outputs": [],
   "source": [
    "root.cssselect('title')[0].text_content()"
   ]
  },
  {
   "cell_type": "markdown",
   "metadata": {},
   "source": [
    "## 한글 인코딩\n",
    "- 컴퓨터는 모든 것을 수(number)로 다룸\n",
    "- 한글 인코딩: 한글을 수로 나타내는 방법\n",
    "- 현재 국내에서 흔히 사용되는 인코딩은 2가지\n",
    "  - UTF-8: 유니코드라는 국제 표준의 한 형식\n",
    "  - EUC-KR: 완성형 국내 표준\n",
    "\n",
    "## requests의 인코딩 처리\n",
    "- 인코딩을 자동 인식하나 가끔 부정확\n",
    "- 대법원 사이트의 경우 EUC-KR을 ISO-8859-1로 오인식\n",
    "- ISO-8859-1은 서유럽 언어를 위한 유니코드 이전 국제표준(Latin-1)\n",
    "\n",
    "## 인코딩 바꾸기\n",
    "- 인코딩 값을 바꿔주면 됨\n",
    "- 국내 사이트의 경우 `euc-kr`과 `utf8` 둘 중에 하나이므로 하나씩 시도"
   ]
  },
  {
   "cell_type": "code",
   "execution_count": null,
   "metadata": {},
   "outputs": [],
   "source": [
    "res.encoding"
   ]
  },
  {
   "cell_type": "code",
   "execution_count": null,
   "metadata": {},
   "outputs": [],
   "source": [
    "res.encoding = 'euc-kr'\n",
    "#res.encoding = 'utf-8'"
   ]
  },
  {
   "cell_type": "markdown",
   "metadata": {},
   "source": [
    "다시 처리해보면"
   ]
  },
  {
   "cell_type": "code",
   "execution_count": null,
   "metadata": {},
   "outputs": [],
   "source": [
    "root = lxml.html.fromstring(res.text)"
   ]
  },
  {
   "cell_type": "code",
   "execution_count": null,
   "metadata": {},
   "outputs": [],
   "source": [
    "root.cssselect('title')[0].text_content()"
   ]
  },
  {
   "cell_type": "markdown",
   "metadata": {},
   "source": [
    "# 셀레늄"
   ]
  },
  {
   "cell_type": "markdown",
   "metadata": {},
   "source": [
    "## 학습목표\n",
    "\n",
    "웹브라우저가 필요한 상황에서 셀레늄을 이용해 스크래핑하는 방법을 알아본다"
   ]
  },
  {
   "cell_type": "markdown",
   "metadata": {},
   "source": [
    "## 최근의 웹 트렌드\n",
    "\n",
    "- HTML + 프로그램(JavaScript)\n",
    "- 웹 페이지의 내용이 동적으로 변화\n",
    "- 단순히 HTML만 긁어서 내용 파악이 불가능"
   ]
  },
  {
   "cell_type": "markdown",
   "metadata": {},
   "source": [
    "## 트립어드바이저\n",
    "\n",
    "https://www.tripadvisor.co.kr/Restaurant_Review-g294197-d1371740-Reviews-Mugyodong_Bugeokukjib-Seoul.html\n",
    "\n",
    "- 리뷰의 모든 내용은 '더보기' 버튼을 클릭해야 볼 수 있음\n",
    "- 개발자 도구에서 Network를 확인해보면 더보기 버튼 클릭시 통신이 이뤄지며 리뷰 내용을 가져오는 것을 확인"
   ]
  },
  {
   "cell_type": "markdown",
   "metadata": {},
   "source": [
    "## 리뷰 수집 방법\n",
    "\n",
    "1. '더보기' 버튼을 클릭했을 때 통신 내역을 requests로 따라한다\n",
    "2. 웹 브라우저를 띄워서 '더보기' 버튼을 클릭한다"
   ]
  },
  {
   "cell_type": "markdown",
   "metadata": {},
   "source": [
    "## 셀레늄\n",
    "\n",
    "- 웹 브라우저 제어 도구\n",
    "- 원래는 웹 사이트 자동 테스트를 위한 목적\n",
    "- 웹 사이트에 requests 등으로 긁기 어려운 부분이 있을 때 활용\n",
    "- 속도는 느림"
   ]
  },
  {
   "cell_type": "markdown",
   "metadata": {},
   "source": [
    "## 셀레늄 설치"
   ]
  },
  {
   "cell_type": "code",
   "execution_count": 65,
   "metadata": {},
   "outputs": [
    {
     "name": "stdout",
     "output_type": "stream",
     "text": [
      "Requirement already satisfied: selenium in c:\\users\\lucky\\anaconda3\\lib\\site-packages (3.141.0)\n",
      "Requirement already satisfied: urllib3 in c:\\users\\lucky\\anaconda3\\lib\\site-packages (from selenium) (1.25.8)\n"
     ]
    }
   ],
   "source": [
    "!pip install selenium"
   ]
  },
  {
   "cell_type": "markdown",
   "metadata": {},
   "source": [
    "## 드라이버\n",
    "\n",
    "브라우저별로 '드라이버'가 필요\n",
    "\n",
    "  1. 셀레늄 홈페이지 https://www.seleniumhq.org/\n",
    "  2. Download 탭 이동\n",
    "  3. 필요한 드라이버 링크 선택"
   ]
  },
  {
   "cell_type": "markdown",
   "metadata": {},
   "source": [
    "## 크롬 드라이버\n",
    "\n",
    "- 인터넷 익스플로러는 셀레늄과 문제가 있음\n",
    "- 구글 크롬(Chrome) 사용을 추천\n",
    "  1. 셀레늄 홈페이지에서 Google Chrome Driver를 클릭\n",
    "  2. Latest Release 링크를 클릭\n",
    "  3. Chrome Driver X.XX 링크를 클릭\n",
    "  4. 운영체제(win, mac, linux)에 맞는 파일을 다운로드\n",
    "  5. 압축을 해제\n",
    "  6. chromedriver.exe 파일을 현재 작업 폴더로 복사"
   ]
  },
  {
   "cell_type": "markdown",
   "metadata": {},
   "source": [
    "## 크롬 브라우저 띄우기"
   ]
  },
  {
   "cell_type": "code",
   "execution_count": 5,
   "metadata": {},
   "outputs": [],
   "source": [
    "from selenium.webdriver import Chrome"
   ]
  },
  {
   "cell_type": "code",
   "execution_count": 6,
   "metadata": {},
   "outputs": [],
   "source": [
    "browser = Chrome()"
   ]
  },
  {
   "cell_type": "markdown",
   "metadata": {},
   "source": [
    "크롬이 뜨면서 **Chrome이 자동화된 테스트 소프트웨어에 의해 제어되고 있습니다**라고 표시"
   ]
  },
  {
   "cell_type": "code",
   "execution_count": 3,
   "metadata": {},
   "outputs": [],
   "source": [
    "#url = 'https://www.tripadvisor.co.kr/Restaurant_Review-g294197-d1371740-Reviews-Mugyodong_Bugeokukjib-Seoul.html'"
   ]
  },
  {
   "cell_type": "code",
   "execution_count": 7,
   "metadata": {},
   "outputs": [],
   "source": [
    "browser.get('https://www.naver.com')"
   ]
  },
  {
   "cell_type": "markdown",
   "metadata": {},
   "source": [
    "## 링크 찾기\n",
    "\n",
    "- `find_elements_by_css_selector`로 '더보기' 링크를 찾는다. \n",
    "  - 단수형 `find_element_~`: 첫번째를 찾음\n",
    "  - 복수형 `find_elements_~`: 모두 찾음(`lxml.html`의 `cssselect`와 동일)"
   ]
  },
  {
   "cell_type": "code",
   "execution_count": null,
   "metadata": {},
   "outputs": [],
   "source": [
    "more_links = browser.find_elements_by_css_selector('.ulBlueLinks')"
   ]
  },
  {
   "cell_type": "code",
   "execution_count": null,
   "metadata": {},
   "outputs": [],
   "source": [
    "more_links"
   ]
  },
  {
   "cell_type": "markdown",
   "metadata": {},
   "source": [
    "## 클릭\n",
    "\n",
    "`.click` 메소드로 클릭"
   ]
  },
  {
   "cell_type": "code",
   "execution_count": null,
   "metadata": {},
   "outputs": [],
   "source": [
    "for link in more_links:  # 모든 링크를\n",
    "    try:\n",
    "        link.click()     # 하나씩 클릭한다\n",
    "    except:              # 예외가 발생하면\n",
    "        pass             # 넘어간다"
   ]
  },
  {
   "cell_type": "markdown",
   "metadata": {},
   "source": [
    "## 리뷰\n",
    "\n",
    "- `.text`로 텍스트 확인\n",
    "- `lxml.html`의 `.text_content()`와 동일"
   ]
  },
  {
   "cell_type": "code",
   "execution_count": null,
   "metadata": {},
   "outputs": [],
   "source": [
    "reviews = browser.find_elements_by_css_selector('.partial_entry')"
   ]
  },
  {
   "cell_type": "code",
   "execution_count": null,
   "metadata": {},
   "outputs": [],
   "source": [
    "for review in reviews:\n",
    "    print(review.text)"
   ]
  },
  {
   "cell_type": "code",
   "execution_count": null,
   "metadata": {},
   "outputs": [],
   "source": [
    "data = []\n",
    "for review in reviews:\n",
    "    data.append(review.text)"
   ]
  },
  {
   "cell_type": "code",
   "execution_count": null,
   "metadata": {},
   "outputs": [],
   "source": [
    "import pandas as pd"
   ]
  },
  {
   "cell_type": "code",
   "execution_count": null,
   "metadata": {},
   "outputs": [],
   "source": [
    "#pd.DataFrame({'text':data}).to_excel('북어국.xlsx')\n",
    "df = pd.DataFrame({'text':data})\n",
    "df.to_excel('북어국.xlsx')"
   ]
  },
  {
   "cell_type": "markdown",
   "metadata": {},
   "source": [
    "## 셀레늄 문서\n",
    "\n",
    "https://selenium-python.readthedocs.io"
   ]
  },
  {
   "cell_type": "code",
   "execution_count": 79,
   "metadata": {},
   "outputs": [
    {
     "data": {
      "text/html": [
       "<div>\n",
       "<style scoped>\n",
       "    .dataframe tbody tr th:only-of-type {\n",
       "        vertical-align: middle;\n",
       "    }\n",
       "\n",
       "    .dataframe tbody tr th {\n",
       "        vertical-align: top;\n",
       "    }\n",
       "\n",
       "    .dataframe thead th {\n",
       "        text-align: right;\n",
       "    }\n",
       "</style>\n",
       "<table border=\"1\" class=\"dataframe\">\n",
       "  <thead>\n",
       "    <tr style=\"text-align: right;\">\n",
       "      <th></th>\n",
       "      <th>word</th>\n",
       "      <th>freq</th>\n",
       "    </tr>\n",
       "  </thead>\n",
       "  <tbody>\n",
       "    <tr>\n",
       "      <th>0</th>\n",
       "      <td>027</td>\n",
       "      <td>2</td>\n",
       "    </tr>\n",
       "    <tr>\n",
       "      <th>1</th>\n",
       "      <td>04</td>\n",
       "      <td>2</td>\n",
       "    </tr>\n",
       "    <tr>\n",
       "      <th>2</th>\n",
       "      <td>040</td>\n",
       "      <td>1</td>\n",
       "    </tr>\n",
       "    <tr>\n",
       "      <th>3</th>\n",
       "      <td>044</td>\n",
       "      <td>2</td>\n",
       "    </tr>\n",
       "    <tr>\n",
       "      <th>4</th>\n",
       "      <td>044명</td>\n",
       "      <td>1</td>\n",
       "    </tr>\n",
       "    <tr>\n",
       "      <th>...</th>\n",
       "      <td>...</td>\n",
       "      <td>...</td>\n",
       "    </tr>\n",
       "    <tr>\n",
       "      <th>621</th>\n",
       "      <td>확진환자</td>\n",
       "      <td>1</td>\n",
       "    </tr>\n",
       "    <tr>\n",
       "      <th>622</th>\n",
       "      <td>환기를</td>\n",
       "      <td>1</td>\n",
       "    </tr>\n",
       "    <tr>\n",
       "      <th>623</th>\n",
       "      <td>환자</td>\n",
       "      <td>1</td>\n",
       "    </tr>\n",
       "    <tr>\n",
       "      <th>624</th>\n",
       "      <td>환자는</td>\n",
       "      <td>2</td>\n",
       "    </tr>\n",
       "    <tr>\n",
       "      <th>625</th>\n",
       "      <td>환자수는</td>\n",
       "      <td>1</td>\n",
       "    </tr>\n",
       "  </tbody>\n",
       "</table>\n",
       "<p>626 rows × 2 columns</p>\n",
       "</div>"
      ],
      "text/plain": [
       "     word  freq\n",
       "0     027     2\n",
       "1      04     2\n",
       "2     040     1\n",
       "3     044     2\n",
       "4    044명     1\n",
       "..    ...   ...\n",
       "621  확진환자     1\n",
       "622   환기를     1\n",
       "623    환자     1\n",
       "624   환자는     2\n",
       "625  환자수는     1\n",
       "\n",
       "[626 rows x 2 columns]"
      ]
     },
     "execution_count": 79,
     "metadata": {},
     "output_type": "execute_result"
    }
   ],
   "source": [
    "df"
   ]
  },
  {
   "cell_type": "code",
   "execution_count": 80,
   "metadata": {},
   "outputs": [],
   "source": [
    "import os"
   ]
  },
  {
   "cell_type": "code",
   "execution_count": 81,
   "metadata": {},
   "outputs": [
    {
     "data": {
      "text/plain": [
       "'C:\\\\Users\\\\lucky\\\\Documents\\\\빅데이터UI양성과정'"
      ]
     },
     "execution_count": 81,
     "metadata": {},
     "output_type": "execute_result"
    }
   ],
   "source": [
    "os.getcwd()"
   ]
  },
  {
   "cell_type": "code",
   "execution_count": 82,
   "metadata": {},
   "outputs": [],
   "source": [
    "import time"
   ]
  },
  {
   "cell_type": "code",
   "execution_count": 83,
   "metadata": {},
   "outputs": [
    {
     "name": "stdout",
     "output_type": "stream",
     "text": [
      "hell\n",
      "o\n"
     ]
    }
   ],
   "source": [
    "print('hell')\n",
    "time.sleep(3)\n",
    "print('o')"
   ]
  },
  {
   "cell_type": "markdown",
   "metadata": {},
   "source": [
    "# 워드 클라우드"
   ]
  },
  {
   "cell_type": "markdown",
   "metadata": {},
   "source": [
    "설치"
   ]
  },
  {
   "cell_type": "markdown",
   "metadata": {},
   "source": [
    "데이터 가져오기"
   ]
  },
  {
   "cell_type": "code",
   "execution_count": 2,
   "metadata": {},
   "outputs": [],
   "source": [
    "import pandas as pd\n",
    "import lxml.html\n",
    "import requests"
   ]
  },
  {
   "cell_type": "code",
   "execution_count": 3,
   "metadata": {},
   "outputs": [],
   "source": [
    "res = requests.get('http://ncov.mohw.go.kr/tcmBoardView.do?brdId=&brdGubun=&dataGubun=&ncvContSeq=354238&contSeq=354238&board_id=&gubun=ALL')"
   ]
  },
  {
   "cell_type": "code",
   "execution_count": 4,
   "metadata": {},
   "outputs": [],
   "source": [
    "root = lxml.html.fromstring(res.text)"
   ]
  },
  {
   "cell_type": "code",
   "execution_count": 6,
   "metadata": {},
   "outputs": [],
   "source": [
    "content = root.cssselect('div#content')[0].text_content()"
   ]
  },
  {
   "cell_type": "markdown",
   "metadata": {},
   "source": [
    "TDM"
   ]
  },
  {
   "cell_type": "code",
   "execution_count": 8,
   "metadata": {},
   "outputs": [],
   "source": [
    "from sklearn.feature_extraction.text import CountVectorizer\n",
    "cv = CountVectorizer(stop_words='english')"
   ]
  },
  {
   "cell_type": "code",
   "execution_count": 9,
   "metadata": {},
   "outputs": [],
   "source": [
    "tdm = cv.fit_transform([content]).toarray()"
   ]
  },
  {
   "cell_type": "code",
   "execution_count": 10,
   "metadata": {},
   "outputs": [],
   "source": [
    "df = pd.DataFrame({\n",
    "    'word': cv.get_feature_names(),\n",
    "    'freq': tdm.flat\n",
    "})"
   ]
  },
  {
   "cell_type": "code",
   "execution_count": 11,
   "metadata": {},
   "outputs": [
    {
     "data": {
      "text/html": [
       "<div>\n",
       "<style scoped>\n",
       "    .dataframe tbody tr th:only-of-type {\n",
       "        vertical-align: middle;\n",
       "    }\n",
       "\n",
       "    .dataframe tbody tr th {\n",
       "        vertical-align: top;\n",
       "    }\n",
       "\n",
       "    .dataframe thead th {\n",
       "        text-align: right;\n",
       "    }\n",
       "</style>\n",
       "<table border=\"1\" class=\"dataframe\">\n",
       "  <thead>\n",
       "    <tr style=\"text-align: right;\">\n",
       "      <th></th>\n",
       "      <th>word</th>\n",
       "      <th>freq</th>\n",
       "    </tr>\n",
       "  </thead>\n",
       "  <tbody>\n",
       "    <tr>\n",
       "      <th>223</th>\n",
       "      <td>관련</td>\n",
       "      <td>34</td>\n",
       "    </tr>\n",
       "    <tr>\n",
       "      <th>9</th>\n",
       "      <td>10</td>\n",
       "      <td>13</td>\n",
       "    </tr>\n",
       "    <tr>\n",
       "      <th>571</th>\n",
       "      <td>코로나19</td>\n",
       "      <td>12</td>\n",
       "    </tr>\n",
       "    <tr>\n",
       "      <th>604</th>\n",
       "      <td>현황</td>\n",
       "      <td>10</td>\n",
       "    </tr>\n",
       "    <tr>\n",
       "      <th>7</th>\n",
       "      <td>0시</td>\n",
       "      <td>9</td>\n",
       "    </tr>\n",
       "    <tr>\n",
       "      <th>307</th>\n",
       "      <td>발생</td>\n",
       "      <td>9</td>\n",
       "    </tr>\n",
       "    <tr>\n",
       "      <th>117</th>\n",
       "      <td>4월</td>\n",
       "      <td>8</td>\n",
       "    </tr>\n",
       "    <tr>\n",
       "      <th>43</th>\n",
       "      <td>18</td>\n",
       "      <td>7</td>\n",
       "    </tr>\n",
       "    <tr>\n",
       "      <th>45</th>\n",
       "      <td>19</td>\n",
       "      <td>7</td>\n",
       "    </tr>\n",
       "    <tr>\n",
       "      <th>617</th>\n",
       "      <td>확진자</td>\n",
       "      <td>7</td>\n",
       "    </tr>\n",
       "    <tr>\n",
       "      <th>241</th>\n",
       "      <td>기준</td>\n",
       "      <td>7</td>\n",
       "    </tr>\n",
       "    <tr>\n",
       "      <th>71</th>\n",
       "      <td>27일</td>\n",
       "      <td>7</td>\n",
       "    </tr>\n",
       "    <tr>\n",
       "      <th>596</th>\n",
       "      <td>해외유입</td>\n",
       "      <td>6</td>\n",
       "    </tr>\n",
       "    <tr>\n",
       "      <th>236</th>\n",
       "      <td>국내</td>\n",
       "      <td>6</td>\n",
       "    </tr>\n",
       "    <tr>\n",
       "      <th>70</th>\n",
       "      <td>27</td>\n",
       "      <td>6</td>\n",
       "    </tr>\n",
       "    <tr>\n",
       "      <th>95</th>\n",
       "      <td>3명</td>\n",
       "      <td>5</td>\n",
       "    </tr>\n",
       "    <tr>\n",
       "      <th>510</th>\n",
       "      <td>조사</td>\n",
       "      <td>5</td>\n",
       "    </tr>\n",
       "    <tr>\n",
       "      <th>33</th>\n",
       "      <td>14</td>\n",
       "      <td>5</td>\n",
       "    </tr>\n",
       "    <tr>\n",
       "      <th>544</th>\n",
       "      <td>진행</td>\n",
       "      <td>5</td>\n",
       "    </tr>\n",
       "    <tr>\n",
       "      <th>384</th>\n",
       "      <td>신규</td>\n",
       "      <td>5</td>\n",
       "    </tr>\n",
       "  </tbody>\n",
       "</table>\n",
       "</div>"
      ],
      "text/plain": [
       "      word  freq\n",
       "223     관련    34\n",
       "9       10    13\n",
       "571  코로나19    12\n",
       "604     현황    10\n",
       "7       0시     9\n",
       "307     발생     9\n",
       "117     4월     8\n",
       "43      18     7\n",
       "45      19     7\n",
       "617    확진자     7\n",
       "241     기준     7\n",
       "71     27일     7\n",
       "596   해외유입     6\n",
       "236     국내     6\n",
       "70      27     6\n",
       "95      3명     5\n",
       "510     조사     5\n",
       "33      14     5\n",
       "544     진행     5\n",
       "384     신규     5"
      ]
     },
     "execution_count": 11,
     "metadata": {},
     "output_type": "execute_result"
    }
   ],
   "source": [
    "df.sort_values('freq', ascending=False).head(20)"
   ]
  },
  {
   "cell_type": "markdown",
   "metadata": {},
   "source": [
    "단어 구름 그리기"
   ]
  },
  {
   "cell_type": "code",
   "execution_count": 12,
   "metadata": {},
   "outputs": [],
   "source": [
    "from wordcloud import WordCloud"
   ]
  },
  {
   "cell_type": "code",
   "execution_count": 75,
   "metadata": {},
   "outputs": [],
   "source": [
    "#wc = WordCloud(width=400, height=400, background_color='white')\n",
    "wc = WordCloud(font_path='C:\\Windows\\Fonts\\HMFMPYUN.ttf', width=400, height=400, background_color='black')\n",
    "# 한글 파일일 경우 폰트 지정할 것."
   ]
  },
  {
   "cell_type": "code",
   "execution_count": 76,
   "metadata": {},
   "outputs": [],
   "source": [
    "frequencies = {word: freq for word, freq in zip(cv.get_feature_names(), tdm.flat)}\n",
    "# dictionery 형태로 변경"
   ]
  },
  {
   "cell_type": "code",
   "execution_count": 77,
   "metadata": {},
   "outputs": [
    {
     "data": {
      "text/plain": [
       "<wordcloud.wordcloud.WordCloud at 0x1d29a2916c8>"
      ]
     },
     "execution_count": 77,
     "metadata": {},
     "output_type": "execute_result"
    }
   ],
   "source": [
    "wc.fit_words(frequencies)"
   ]
  },
  {
   "cell_type": "code",
   "execution_count": 78,
   "metadata": {},
   "outputs": [
    {
     "data": {
      "image/png": "[encoded data removed]",
      "text/plain": [
       "<PIL.Image.Image image mode=RGB size=400x400 at 0x1D29A284C08>"
      ]
     },
     "execution_count": 78,
     "metadata": {},
     "output_type": "execute_result"
    }
   ],
   "source": [
    "wc.to_image()"
   ]
  },
  {
   "cell_type": "code",
   "execution_count": null,
   "metadata": {},
   "outputs": [],
   "source": []
  },
  {
   "cell_type": "code",
   "execution_count": null,
   "metadata": {},
   "outputs": [],
   "source": []
  }
 ],
 "metadata": {
  "kernelspec": {
   "display_name": "Python 3",
   "language": "python",
   "name": "python3"
  },
  "language_info": {
   "codemirror_mode": {
    "name": "ipython",
    "version": 3
   },
   "file_extension": ".py",
   "mimetype": "text/x-python",
   "name": "python",
   "nbconvert_exporter": "python",
   "pygments_lexer": "ipython3",
   "version": "3.7.6"
  }
 },
 "nbformat": 4,
 "nbformat_minor": 4
}
